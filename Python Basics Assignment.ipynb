{
 "cells": [
  {
   "cell_type": "code",
   "execution_count": 2,
   "metadata": {},
   "outputs": [],
   "source": [
    "import math"
   ]
  },
  {
   "cell_type": "markdown",
   "metadata": {},
   "source": [
    "### Q1.  From this given string: s = \"Hey i am from New Delhi\". Find out: length of string, convert this to list using split operation."
   ]
  },
  {
   "cell_type": "code",
   "execution_count": 3,
   "metadata": {},
   "outputs": [
    {
     "name": "stdout",
     "output_type": "stream",
     "text": [
      "23\n",
      "['Hey', 'i', 'am', 'from', 'New', 'Delhi']\n"
     ]
    }
   ],
   "source": [
    "s = \"Hey i am from New Delhi\"\n",
    "print(len(s))\n",
    "a=s.split()\n",
    "print(a)"
   ]
  },
  {
   "cell_type": "markdown",
   "metadata": {},
   "source": [
    "### Q2.  Given string s = \"name is rahul\". Write code to give following o/p.\n",
    "- \"Name is rahul\"\n",
    "-  \"Rame Is Rahul\"\n",
    "-  \"NAME IS RAHUL\""
   ]
  },
  {
   "cell_type": "code",
   "execution_count": 1,
   "metadata": {},
   "outputs": [
    {
     "name": "stdout",
     "output_type": "stream",
     "text": [
      "Name is rahul\n",
      "Name Is Rahul\n",
      "NAME IS RAHUL\n"
     ]
    }
   ],
   "source": [
    "s = \"name is rahul\"\n",
    "print(s.capitalize())\n",
    "print(s.title())\n",
    "print(s.upper())"
   ]
  },
  {
   "cell_type": "markdown",
   "metadata": {},
   "source": [
    "### Q3. Using length and breadth as input find out area and perimeter of a given rectangle."
   ]
  },
  {
   "cell_type": "code",
   "execution_count": 2,
   "metadata": {},
   "outputs": [
    {
     "name": "stdout",
     "output_type": "stream",
     "text": [
      "Enter the leangth: 2\n",
      "Enter the breadth: 3\n",
      "Area of the rectangle:  6.0\n",
      "Perimeter of the rectangle:  10.0\n"
     ]
    }
   ],
   "source": [
    "a=float(input(\"Enter the leangth: \"))\n",
    "b=float(input(\"Enter the breadth: \"))\n",
    "print(\"Area of the rectangle: \",a*b)\n",
    "print(\"Perimeter of the rectangle: \",2*(a+b))"
   ]
  },
  {
   "cell_type": "markdown",
   "metadata": {},
   "source": [
    "### Q4. Using diameter as input find out circumference and area of a circle."
   ]
  },
  {
   "cell_type": "code",
   "execution_count": 3,
   "metadata": {},
   "outputs": [
    {
     "name": "stdout",
     "output_type": "stream",
     "text": [
      "Enter the diameter: 40\n",
      "Circumference of the circle:  125.66370614359172\n",
      "Area of the circle  1256.6370614359173\n"
     ]
    }
   ],
   "source": [
    "a=float(input(\"Enter the diameter: \"))\n",
    "print(\"Circumference of the circle: \",math.pi*a)\n",
    "print(\"Area of the circle \",math.pi*(a/2)*(a/2))"
   ]
  },
  {
   "cell_type": "markdown",
   "metadata": {},
   "source": [
    "### Q5. Write a program to compute roots of a quadratic equation when coefficients a, b and c are known(entered by user)."
   ]
  },
  {
   "cell_type": "code",
   "execution_count": 4,
   "metadata": {},
   "outputs": [
    {
     "name": "stdout",
     "output_type": "stream",
     "text": [
      "Enter the coffiecient of x^2: 5\n",
      "Enter the coffiecient of x: 3\n",
      "Enter the constant term: -2\n",
      "first root will be:  0.4\n",
      "second root will be:  -1.0\n"
     ]
    }
   ],
   "source": [
    "a=float(input(\"Enter the coffiecient of x^2: \"))\n",
    "b=float(input(\"Enter the coffiecient of x: \"))\n",
    "c=float(input(\"Enter the constant term: \"))\n",
    "r=math.sqrt((b*b) - (4*a*c))\n",
    "print(\"first root will be: \", (-b+r)/(2*a))\n",
    "print(\"second root will be: \", (-b-r)/(2*a))"
   ]
  },
  {
   "cell_type": "markdown",
   "metadata": {},
   "source": [
    "### Q6. Find volume of a sphere using radius as input."
   ]
  },
  {
   "cell_type": "code",
   "execution_count": 6,
   "metadata": {},
   "outputs": [
    {
     "name": "stdout",
     "output_type": "stream",
     "text": [
      "Enter the radius: 5\n",
      "Volume of the sphere:  523.5987755982987\n"
     ]
    }
   ],
   "source": [
    "a=float(input(\"Enter the radius: \"))\n",
    "print(\"Volume of the sphere: \",4/3*(math.pi*a**3))"
   ]
  },
  {
   "cell_type": "markdown",
   "metadata": {},
   "source": [
    "### Q7. Count the  number of digits in a number. Example: 3454 has 4 digits."
   ]
  },
  {
   "cell_type": "code",
   "execution_count": 7,
   "metadata": {},
   "outputs": [
    {
     "name": "stdout",
     "output_type": "stream",
     "text": [
      "3454\n",
      "4\n"
     ]
    }
   ],
   "source": [
    "a=input()\n",
    "print(len(a))"
   ]
  },
  {
   "cell_type": "markdown",
   "metadata": {},
   "source": [
    "### Q8. Write a program that accepts a string and gives output string with all capital letters."
   ]
  },
  {
   "cell_type": "code",
   "execution_count": 9,
   "metadata": {},
   "outputs": [
    {
     "name": "stdout",
     "output_type": "stream",
     "text": [
      "dfsjajsbdak\n",
      "DFSJAJSBDAK\n"
     ]
    }
   ],
   "source": [
    "a=input()\n",
    "print(a.upper())"
   ]
  },
  {
   "cell_type": "markdown",
   "metadata": {},
   "source": [
    "### Q9. Write a program to that accepts a string s, an index number n and a character ‘c’. And outputs the string replaced with the character at the index number n. Example- ‘hello’ , 0 , ‘j’ ==> ‘jello’.\n",
    "### (Hint2: You can try it by join function too by typecasting it to list)"
   ]
  },
  {
   "cell_type": "code",
   "execution_count": 13,
   "metadata": {},
   "outputs": [
    {
     "name": "stdout",
     "output_type": "stream",
     "text": [
      "Enter the string: abcdef\n",
      "enter the index number: 4\n",
      "Enter the replacing charecter: g\n",
      "abcdgf\n"
     ]
    }
   ],
   "source": [
    "s=input(\"Enter the string: \")\n",
    "n=int(input(\"enter the index number: \"))\n",
    "c=input(\"Enter the replacing charecter: \")\n",
    "a=list(s)\n",
    "a[n]=c\n",
    "print(\"\".join(a))"
   ]
  },
  {
   "cell_type": "markdown",
   "metadata": {},
   "source": [
    "### Q10. Reverse a string. Example: 'Hey there' = 'ereht yeH'"
   ]
  },
  {
   "cell_type": "code",
   "execution_count": 16,
   "metadata": {},
   "outputs": [
    {
     "name": "stdout",
     "output_type": "stream",
     "text": [
      "Enter the string: hello\n",
      "olleh\n"
     ]
    }
   ],
   "source": [
    "a=input(\"Enter the string: \")\n",
    "print(a[::-1])"
   ]
  },
  {
   "cell_type": "code",
   "execution_count": null,
   "metadata": {},
   "outputs": [],
   "source": []
  },
  {
   "cell_type": "code",
   "execution_count": null,
   "metadata": {},
   "outputs": [],
   "source": []
  },
  {
   "cell_type": "code",
   "execution_count": null,
   "metadata": {},
   "outputs": [],
   "source": []
  },
  {
   "cell_type": "code",
   "execution_count": null,
   "metadata": {},
   "outputs": [],
   "source": []
  },
  {
   "cell_type": "code",
   "execution_count": null,
   "metadata": {},
   "outputs": [],
   "source": []
  },
  {
   "cell_type": "code",
   "execution_count": null,
   "metadata": {},
   "outputs": [],
   "source": []
  }
 ],
 "metadata": {
  "kernelspec": {
   "display_name": "Python 3",
   "language": "python",
   "name": "python3"
  },
  "language_info": {
   "codemirror_mode": {
    "name": "ipython",
    "version": 3
   },
   "file_extension": ".py",
   "mimetype": "text/x-python",
   "name": "python",
   "nbconvert_exporter": "python",
   "pygments_lexer": "ipython3",
   "version": "3.9.4"
  }
 },
 "nbformat": 4,
 "nbformat_minor": 4
}
